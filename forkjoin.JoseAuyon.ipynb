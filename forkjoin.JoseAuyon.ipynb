{
 "cells": [
  {
   "cell_type": "code",
   "execution_count": 4,
   "metadata": {},
   "outputs": [
    {
     "name": "stdout",
     "output_type": "stream",
     "text": [
      "La suma de la lista es: 1249825006\n"
     ]
    }
   ],
   "source": [
    "from concurrent.futures import ThreadPoolExecutor\n",
    "\n",
    "def suma_sublista(sublista):\n",
    "    return sum(sublista)\n",
    "\n",
    "def suma_fork_join(lista, num_hilos):\n",
    "    # Dividir la lista en partes para cada hilo\n",
    "    longitud = len(lista)\n",
    "    tamaño_sublista = longitud // num_hilos\n",
    "    sublistas = [lista[i * tamaño_sublista: (i + 1) * tamaño_sublista] for i in range(num_hilos)]\n",
    "    \n",
    "    # Crear el pool de hilos\n",
    "    with ThreadPoolExecutor(max_workers=num_hilos) as executor:\n",
    "        # Procesar cada sublista en un hilo diferente\n",
    "        resultados = executor.map(suma_sublista, sublistas)\n",
    "    \n",
    "    # Combinar los resultados parciales\n",
    "    suma_total = sum(resultados)\n",
    "    \n",
    "    return suma_total\n",
    "\n",
    "# Ejemplo de uso\n",
    "lista = list(range(1, 50000))  # Lista de ejemplo con 10,000 elementos\n",
    "num_hilos = 4\n",
    "resultado = suma_fork_join(lista, num_hilos)\n",
    "print(f\"La suma de la lista es: {resultado}\")\n"
   ]
  }
 ],
 "metadata": {
  "kernelspec": {
   "display_name": "Python 3",
   "language": "python",
   "name": "python3"
  },
  "language_info": {
   "codemirror_mode": {
    "name": "ipython",
    "version": 3
   },
   "file_extension": ".py",
   "mimetype": "text/x-python",
   "name": "python",
   "nbconvert_exporter": "python",
   "pygments_lexer": "ipython3",
   "version": "3.12.5"
  }
 },
 "nbformat": 4,
 "nbformat_minor": 2
}
